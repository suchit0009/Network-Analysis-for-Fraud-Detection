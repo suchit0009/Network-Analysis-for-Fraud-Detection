{
 "cells": [
  {
   "cell_type": "code",
   "execution_count": 1,
   "metadata": {
    "id": "GDCb-oFljHKb"
   },
   "outputs": [],
   "source": [
    "import pandas as pd"
   ]
  },
  {
   "cell_type": "code",
   "execution_count": 2,
   "metadata": {
    "id": "ZiwhbcPDjVNv"
   },
   "outputs": [
    {
     "name": "stderr",
     "output_type": "stream",
     "text": [
      "/var/folders/8x/7w20nyqs14g5k74pdn82t6980000gn/T/ipykernel_48370/530219657.py:1: DtypeWarning: Columns (2,3) have mixed types. Specify dtype option on import or set low_memory=False.\n",
      "  df = pd.read_csv('/Users/suchit/Downloads/Txn_data.csv')\n"
     ]
    }
   ],
   "source": [
    "df = pd.read_csv('/Users/suchit/Downloads/Txn_data.csv')"
   ]
  },
  {
   "cell_type": "code",
   "execution_count": 3,
   "metadata": {
    "colab": {
     "base_uri": "https://localhost:8080/",
     "height": 206
    },
    "id": "_CjWpibBjaV6",
    "outputId": "2bc8dcc5-450b-46ee-ce6e-3f53f117679a"
   },
   "outputs": [
    {
     "data": {
      "text/html": [
       "<div>\n",
       "<style scoped>\n",
       "    .dataframe tbody tr th:only-of-type {\n",
       "        vertical-align: middle;\n",
       "    }\n",
       "\n",
       "    .dataframe tbody tr th {\n",
       "        vertical-align: top;\n",
       "    }\n",
       "\n",
       "    .dataframe thead th {\n",
       "        text-align: right;\n",
       "    }\n",
       "</style>\n",
       "<table border=\"1\" class=\"dataframe\">\n",
       "  <thead>\n",
       "    <tr style=\"text-align: right;\">\n",
       "      <th></th>\n",
       "      <th>Unnamed: 0</th>\n",
       "      <th>Date/Time</th>\n",
       "      <th>From_Account_id</th>\n",
       "      <th>To_Account_id</th>\n",
       "      <th>amount</th>\n",
       "    </tr>\n",
       "  </thead>\n",
       "  <tbody>\n",
       "    <tr>\n",
       "      <th>0</th>\n",
       "      <td>0</td>\n",
       "      <td>2024-06-15 00:00:02</td>\n",
       "      <td>9410161</td>\n",
       "      <td>1191872</td>\n",
       "      <td>1000.0</td>\n",
       "    </tr>\n",
       "    <tr>\n",
       "      <th>1</th>\n",
       "      <td>1</td>\n",
       "      <td>2024-06-15 00:00:02</td>\n",
       "      <td>9781224</td>\n",
       "      <td>5590231</td>\n",
       "      <td>10000.0</td>\n",
       "    </tr>\n",
       "    <tr>\n",
       "      <th>2</th>\n",
       "      <td>2</td>\n",
       "      <td>2024-06-15 00:00:02</td>\n",
       "      <td>4231628</td>\n",
       "      <td>2677870</td>\n",
       "      <td>140.0</td>\n",
       "    </tr>\n",
       "    <tr>\n",
       "      <th>3</th>\n",
       "      <td>3</td>\n",
       "      <td>2024-06-15 00:00:05</td>\n",
       "      <td>1339396</td>\n",
       "      <td>869200</td>\n",
       "      <td>1000.0</td>\n",
       "    </tr>\n",
       "    <tr>\n",
       "      <th>4</th>\n",
       "      <td>4</td>\n",
       "      <td>2024-06-15 00:00:07</td>\n",
       "      <td>3531317</td>\n",
       "      <td>9053549</td>\n",
       "      <td>5000.0</td>\n",
       "    </tr>\n",
       "  </tbody>\n",
       "</table>\n",
       "</div>"
      ],
      "text/plain": [
       "   Unnamed: 0            Date/Time From_Account_id To_Account_id   amount\n",
       "0           0  2024-06-15 00:00:02         9410161       1191872   1000.0\n",
       "1           1  2024-06-15 00:00:02         9781224       5590231  10000.0\n",
       "2           2  2024-06-15 00:00:02         4231628       2677870    140.0\n",
       "3           3  2024-06-15 00:00:05         1339396        869200   1000.0\n",
       "4           4  2024-06-15 00:00:07         3531317       9053549   5000.0"
      ]
     },
     "execution_count": 3,
     "metadata": {},
     "output_type": "execute_result"
    }
   ],
   "source": [
    "df.head()"
   ]
  },
  {
   "cell_type": "code",
   "execution_count": 4,
   "metadata": {
    "colab": {
     "base_uri": "https://localhost:8080/"
    },
    "id": "1eMZhuqSoIak",
    "outputId": "3a33db88-ad1c-41ce-ba41-1794684b0e9d"
   },
   "outputs": [
    {
     "data": {
      "text/plain": [
       "np.float64(1.0)"
      ]
     },
     "execution_count": 4,
     "metadata": {},
     "output_type": "execute_result"
    }
   ],
   "source": [
    "df['amount'].min()"
   ]
  },
  {
   "cell_type": "code",
   "execution_count": 5,
   "metadata": {
    "colab": {
     "base_uri": "https://localhost:8080/",
     "height": 429
    },
    "id": "mn9caXrKjbjq",
    "outputId": "4ee986fa-23a0-4e29-9bfb-e8e01833ef44"
   },
   "outputs": [
    {
     "data": {
      "text/plain": [
       "Unnamed: 0         0\n",
       "Date/Time          0\n",
       "From_Account_id    0\n",
       "To_Account_id      0\n",
       "amount             0\n",
       "dtype: int64"
      ]
     },
     "execution_count": 5,
     "metadata": {},
     "output_type": "execute_result"
    }
   ],
   "source": [
    "df.isna().sum()"
   ]
  },
  {
   "cell_type": "code",
   "execution_count": null,
   "metadata": {
    "colab": {
     "base_uri": "https://localhost:8080/"
    },
    "id": "BJoIoZKCjgpB",
    "outputId": "7c86952e-49a1-41d5-a34f-d6c494f6d55f"
   },
   "outputs": [],
   "source": [
    "df.duplicated().sum()"
   ]
  },
  {
   "cell_type": "code",
   "execution_count": null,
   "metadata": {
    "id": "sYdBnjAhjoWw"
   },
   "outputs": [],
   "source": [
    "df = df.drop_duplicates()\n",
    "df = df.dropna()"
   ]
  },
  {
   "cell_type": "code",
   "execution_count": null,
   "metadata": {
    "colab": {
     "base_uri": "https://localhost:8080/"
    },
    "id": "KQxJ_VKO6HIJ",
    "outputId": "b81ddb6f-0fb7-40b4-a613-be54f25e9c18"
   },
   "outputs": [],
   "source": [
    "df.info()"
   ]
  },
  {
   "cell_type": "code",
   "execution_count": null,
   "metadata": {
    "id": "TBRMDWX36ndY"
   },
   "outputs": [],
   "source": [
    "# df.drop('Unnamed: 0', axis=1, inplace=True)"
   ]
  },
  {
   "cell_type": "code",
   "execution_count": null,
   "metadata": {
    "colab": {
     "base_uri": "https://localhost:8080/",
     "height": 206
    },
    "id": "R0Az-3OE7XAu",
    "outputId": "7f06da2f-b480-49a5-9060-31504449c080"
   },
   "outputs": [],
   "source": [
    "df.head()"
   ]
  },
  {
   "cell_type": "code",
   "execution_count": null,
   "metadata": {
    "colab": {
     "base_uri": "https://localhost:8080/"
    },
    "id": "UPef4UxemPNb",
    "outputId": "62890718-c8a1-4040-b4ec-dc97755b577c"
   },
   "outputs": [],
   "source": [
    "!pip install pyspark"
   ]
  },
  {
   "cell_type": "code",
   "execution_count": null,
   "metadata": {
    "colab": {
     "base_uri": "https://localhost:8080/"
    },
    "id": "r9VPa_aTxQfB",
    "outputId": "b6c71641-0fc5-4d13-dee9-2776a92b2f10"
   },
   "outputs": [],
   "source": [
    "!pyspark --packages graphframes:graphframes:0.8.2-spark3.0-s_2.12"
   ]
  },
  {
   "cell_type": "code",
   "execution_count": null,
   "metadata": {
    "id": "fgeQ7CXXmUFt"
   },
   "outputs": [],
   "source": [
    "from pyspark.sql import SparkSession\n",
    "\n",
    "spark = SparkSession.builder \\\n",
    "    .appName(\"AML Detection\") \\\n",
    "    .config(\"spark.jars.packages\", \"graphframes:graphframes:0.8.2-spark3.0-s_2.12\") \\\n",
    "    .getOrCreate()\n",
    "\n",
    "spark_df = spark.createDataFrame(df)\n",
    "\n",
    "# spark.stop()"
   ]
  },
  {
   "cell_type": "code",
   "execution_count": null,
   "metadata": {
    "id": "R6zhYbj4mwp8"
   },
   "outputs": [],
   "source": [
    "# spark_df.filter(F.col(\"amount\") > 10)\n",
    "# spark_df.groupBy(\"From_Account_id\", \"To_Account_id\").count().filter(F.col(\"count\") >= 3)\n"
   ]
  },
  {
   "cell_type": "code",
   "execution_count": null,
   "metadata": {
    "colab": {
     "base_uri": "https://localhost:8080/"
    },
    "id": "T7RZmZEVnT5e",
    "outputId": "bfdecb31-f754-4569-9e6c-ab5b62765c84"
   },
   "outputs": [],
   "source": [
    "from pyspark.sql import functions as F\n",
    "data = spark_df.dropDuplicates([\"Date/Time\", \"From_Account_id\", \"To_Account_id\", \"amount\"])\n",
    "\n",
    "aggregated = data.groupBy(\"From_Account_id\", \"To_Account_id\").agg(\n",
    "    F.count(\"*\").alias(\"Total_Transaction_Count\"),\n",
    "    F.avg(\"amount\").alias(\"Average_Transaction_Amount\"),\n",
    "    F.min(\"Date/Time\").alias(\"First_Transaction\"),\n",
    "    F.max(\"Date/Time\").alias(\"Last_Transaction\")\n",
    ")\n",
    "aggregated = aggregated.withColumn(\n",
    "    \"Temporal_Span\", F.datediff(\"Last_Transaction\", \"First_Transaction\")\n",
    ")\n",
    "filtered = aggregated.filter(\n",
    "    (F.col(\"Average_Transaction_Amount\") > 100)&\n",
    "     (F.col(\"Total_Transaction_Count\") >= 3))\n",
    "\n",
    "filtered = filtered.filter(F.col(\"From_Account_id\") != F.col(\"To_Account_id\"))\n",
    "filtered.show()"
   ]
  },
  {
   "cell_type": "code",
   "execution_count": null,
   "metadata": {
    "id": "9vUmMbMNx2A5"
   },
   "outputs": [],
   "source": [
    "from graphframes import GraphFrame"
   ]
  },
  {
   "cell_type": "code",
   "execution_count": null,
   "metadata": {
    "colab": {
     "base_uri": "https://localhost:8080/"
    },
    "id": "GR_64jYdmFtW",
    "outputId": "75377f1f-9aad-46c7-a8f9-4cf86a68ac98"
   },
   "outputs": [],
   "source": [
    "from pyspark.sql import SparkSession\n",
    "from graphframes import GraphFrame\n",
    "\n",
    "vertices = data.select(F.col(\"From_Account_id\").alias(\"id\")).union(\n",
    "    data.select(F.col(\"To_Account_id\").alias(\"id\"))\n",
    ").distinct()\n",
    "\n",
    "edges = data.select(\n",
    "    F.col(\"From_Account_id\").alias(\"src\"),\n",
    "    F.col(\"To_Account_id\").alias(\"dst\"),\n",
    "    F.col(\"amount\"),\n",
    "    F.col(\"Date/Time\")\n",
    ")\n",
    "graph = GraphFrame(vertices, edges)"
   ]
  },
  {
   "cell_type": "markdown",
   "metadata": {
    "id": "nkGPmrKlAud9"
   },
   "source": [
    "# Circular Transactions: Strongly Connected Components (SCC)"
   ]
  },
  {
   "cell_type": "code",
   "execution_count": null,
   "metadata": {
    "colab": {
     "base_uri": "https://localhost:8080/"
    },
    "id": "L4DwPmxfS5wT",
    "outputId": "c6cadd65-59a6-4209-dcc2-2adfac17d069"
   },
   "outputs": [],
   "source": [
    "# SCC algorithm\n",
    "scc = graph.stronglyConnectedComponents(maxIter=10)\n",
    "circular_clusters = scc.groupBy(\"component\").count().filter(F.col(\"count\") > 1)\n",
    "circular_clusters.show()\n",
    "\n",
    "import networkx as nx\n",
    "import matplotlib.pyplot as plt\n",
    "\n",
    "edges_pd = edges.toPandas()\n",
    "G = nx.from_pandas_edgelist(edges_pd, source=\"src\", target=\"dst\", create_using=nx.DiGraph())"
   ]
  },
  {
   "cell_type": "code",
   "execution_count": null,
   "metadata": {
    "colab": {
     "base_uri": "https://localhost:8080/"
    },
    "id": "jXEWlPJKWZcD",
    "outputId": "fb2db282-0c96-4147-9a87-0baf689abd0e"
   },
   "outputs": [],
   "source": [
    "# Sort clusters by count in descending order and select the top 10\n",
    "flagged_clusters = circular_clusters.orderBy(F.col(\"count\").desc()).limit(10)\n",
    "flagged_clusters.show()\n",
    "flagged_clusters_pd = flagged_clusters.toPandas()\n",
    "print(\"Flagged Circular Clusters:\")\n",
    "print(flagged_clusters_pd)"
   ]
  },
  {
   "cell_type": "code",
   "execution_count": null,
   "metadata": {
    "id": "Oh6Lt1zLOCgi"
   },
   "outputs": [],
   "source": [
    "import networkx as nx\n",
    "import matplotlib.pyplot as plt\n",
    "\n",
    "def visualize_circular_transactions(account_id, scc_pd, edges_pd):\n",
    "    component = scc_pd[scc_pd[\"id\"] == int(account_id)][\"component\"].values\n",
    "    if len(component) == 0:\n",
    "        print(f\"No component found for account ID {account_id}.\")\n",
    "        return\n",
    "\n",
    "    component = component[0]\n",
    "    component_nodes = scc_pd[scc_pd[\"component\"] == component][\"id\"].values\n",
    "    component_edges = edges_pd[\n",
    "        (edges_pd[\"src\"].isin(component_nodes)) & (edges_pd[\"dst\"].isin(component_nodes))\n",
    "    ]\n",
    "\n",
    "    if component_edges.empty:\n",
    "        print(f\"No circular transactions found for account ID {account_id}.\")\n",
    "    else:\n",
    "        G = nx.from_pandas_edgelist(\n",
    "            component_edges, source=\"src\", target=\"dst\", create_using=nx.DiGraph()\n",
    "        )\n",
    "        plt.figure(figsize=(12, 8))\n",
    "        nx.draw_networkx(\n",
    "            G,\n",
    "            with_labels=True,\n",
    "            node_size=500,\n",
    "            node_color=\"lightblue\",\n",
    "            font_size=10,\n",
    "            arrowsize=15,\n",
    "        )\n",
    "        plt.title(f\"Circular Transactions for Component {component} (Account: {account_id})\")\n",
    "        plt.show()\n",
    "scc_pd = scc.toPandas()\n",
    "edges_pd = edges.toPandas()"
   ]
  },
  {
   "cell_type": "code",
   "execution_count": null,
   "metadata": {
    "colab": {
     "base_uri": "https://localhost:8080/",
     "height": 692
    },
    "id": "vtJ38cZcOacY",
    "outputId": "0588336b-9337-425b-eb78-612b42347e8e"
   },
   "outputs": [],
   "source": [
    "account_id = input(\"Enter the account ID to visualize circular transactions (or type 'n' to stop): \")\n",
    "if account_id.lower() in ['n', 'stop']:\n",
    "    print(\"Exiting visualization.\")\n",
    "if not account_id.isdigit():\n",
    "    print(\"Invalid input. Please enter a valid numeric account ID.\")\n",
    "visualize_circular_transactions(account_id, scc_pd, edges_pd)"
   ]
  },
  {
   "cell_type": "code",
   "execution_count": null,
   "metadata": {
    "colab": {
     "base_uri": "https://localhost:8080/",
     "height": 692
    },
    "id": "XZOG5u3yO1nP",
    "outputId": "5da900b8-240e-46c5-d94e-8b18d709de9b"
   },
   "outputs": [],
   "source": [
    "account_id = input(\"Enter the account ID to visualize circular transactions (or type 'n' to stop): \")\n",
    "if account_id.lower() in ['n', 'stop']:\n",
    "    print(\"Exiting visualization.\")\n",
    "if not account_id.isdigit():\n",
    "    print(\"Invalid input. Please enter a valid numeric account ID.\")\n",
    "visualize_circular_transactions(account_id, scc_pd, edges_pd)"
   ]
  },
  {
   "cell_type": "code",
   "execution_count": null,
   "metadata": {
    "colab": {
     "base_uri": "https://localhost:8080/",
     "height": 692
    },
    "id": "vbFwDvTj5SSG",
    "outputId": "53b4aa96-4663-4e81-95c8-4af3bc6666df"
   },
   "outputs": [],
   "source": [
    "account_id = input(\"Enter the account ID to visualize circular transactions (or type 'n' to stop): \")\n",
    "if account_id.lower() in ['n', 'stop']:\n",
    "    print(\"Exiting visualization.\")\n",
    "if not account_id.isdigit():\n",
    "    print(\"Invalid input. Please enter a valid numeric account ID.\")\n",
    "visualize_circular_transactions(account_id, scc_pd, edges_pd)"
   ]
  },
  {
   "cell_type": "code",
   "execution_count": null,
   "metadata": {
    "colab": {
     "base_uri": "https://localhost:8080/",
     "height": 710
    },
    "id": "X4XnKz3j5mYA",
    "outputId": "80e0f643-393e-4379-8539-cf1ab9a73b79"
   },
   "outputs": [],
   "source": [
    "account_id = input(\"Enter the account ID to visualize circular transactions (or type 'n' to stop): \")\n",
    "if account_id.lower() in ['n', 'stop']:\n",
    "    print(\"Exiting visualization.\")\n",
    "if not account_id.isdigit():\n",
    "    print(\"Invalid input. Please enter a valid numeric account ID.\")\n",
    "visualize_circular_transactions(account_id, scc_pd, edges_pd)"
   ]
  },
  {
   "cell_type": "code",
   "execution_count": null,
   "metadata": {
    "colab": {
     "base_uri": "https://localhost:8080/",
     "height": 710
    },
    "id": "tSKzosL_51SP",
    "outputId": "54f05d2a-774f-4644-e207-a55984666b0d"
   },
   "outputs": [],
   "source": [
    "account_id = input(\"Enter the account ID to visualize circular transactions (or type 'n' to stop): \")\n",
    "if account_id.lower() in ['n', 'stop']:\n",
    "    print(\"Exiting visualization.\")\n",
    "if not account_id.isdigit():\n",
    "    print(\"Invalid input. Please enter a valid numeric account ID.\")\n",
    "visualize_circular_transactions(account_id, scc_pd, edges_pd)"
   ]
  },
  {
   "cell_type": "code",
   "execution_count": null,
   "metadata": {
    "id": "v59OHlMvPFeq"
   },
   "outputs": [],
   "source": [
    "# account_id = input(\"Enter the account ID to visualize circular transactions (or type 'n' to stop): \")\n",
    "# if account_id.lower() in ['n', 'stop']:\n",
    "#     print(\"Exiting visualization.\")\n",
    "# if not account_id.isdigit():\n",
    "#     print(\"Invalid input. Please enter a valid numeric account ID.\")\n",
    "# visualize_circular_transactions(account_id, scc_pd, edges_pd)"
   ]
  },
  {
   "cell_type": "code",
   "execution_count": null,
   "metadata": {
    "id": "QHQu_edtCj4a"
   },
   "outputs": [],
   "source": [
    "# # Plot the graph\n",
    "# plt.figure(figsize=(12, 8))\n",
    "# nx.draw_networkx(G, with_labels=False, node_size=10, arrows=True)\n",
    "# plt.title(\"Circular Transactions\")\n",
    "# plt.show()"
   ]
  },
  {
   "cell_type": "markdown",
   "metadata": {
    "id": "HZuMu-6G3KfB"
   },
   "source": [
    "# BFS backtracking\n"
   ]
  },
  {
   "cell_type": "code",
   "execution_count": null,
   "metadata": {
    "colab": {
     "base_uri": "https://localhost:8080/",
     "height": 1000
    },
    "id": "GXKHWzQ3EPVV",
    "outputId": "e9cf8b5a-f46d-4c3b-fe3e-d165994e8a7b"
   },
   "outputs": [],
   "source": [
    "seed_account = \" 282286\"\n",
    "to_account = \"4234415\"\n",
    "# 9819145\n",
    "bfs = graph.bfs(\n",
    "    fromExpr=f\"id = '{seed_account}'\",\n",
    "    toExpr=f\"id ='{to_account}'\",\n",
    "    maxPathLength=10\n",
    ")\n",
    "\n",
    "bfs.printSchema()\n",
    "bfs.show(truncate=False)\n",
    "\n",
    "if bfs.count() > 0:\n",
    "    layer_edges = bfs.select(F.col(\"from.id\").alias(\"src\"), F.col(\"to.id\").alias(\"dst\"))\n",
    "    layer_edges_pd = layer_edges.toPandas()\n",
    "    G = nx.from_pandas_edgelist(layer_edges_pd, source=\"src\", target=\"dst\", create_using=nx.DiGraph())\n",
    "    plt.figure(figsize=(12, 8))\n",
    "    nx.draw_networkx(G, with_labels=True, node_size=100, arrows=True)\n",
    "    plt.title(f\"Layering from Seed: {seed_account}\")\n",
    "    plt.show()\n",
    "else:\n",
    "    print(\"No paths found from the seed account.\")"
   ]
  },
  {
   "cell_type": "code",
   "execution_count": null,
   "metadata": {
    "colab": {
     "base_uri": "https://localhost:8080/",
     "height": 829
    },
    "id": "0_Bq66RbafyI",
    "outputId": "cd810268-a83e-4949-d66a-3774591aff85"
   },
   "outputs": [],
   "source": [
    "layer_edges = []\n",
    "for i in range(9):\n",
    "    from_col = f\"from.id\" if i == 0 else f\"v{i}.id\"\n",
    "    to_col = f\"v{i+1}.id\" if i < 5 else \"to.id\"\n",
    "    edge_col = f\"e{i}\"\n",
    "    if edge_col in bfs.columns:\n",
    "        edges = bfs.select(F.col(from_col).alias(\"src\"),\n",
    "                           F.col(to_col).alias(\"dst\"),\n",
    "                           F.col(f\"{edge_col}.amount\").alias(\"amount\"),\n",
    "                           F.col(f\"{edge_col}.Date/Time\").alias(\"datetime\"))\n",
    "        layer_edges.append(edges)\n",
    "\n",
    "# Combine all edges\n",
    "if layer_edges:\n",
    "    all_edges = layer_edges[0]\n",
    "    for edge_df in layer_edges[1:]:\n",
    "        all_edges = all_edges.union(edge_df)\n",
    "    layer_edges_pd = all_edges.toPandas()\n",
    "    G = nx.from_pandas_edgelist(layer_edges_pd, source=\"src\", target=\"dst\", create_using=nx.DiGraph())\n",
    "    plt.figure(figsize=(14, 10))\n",
    "    nx.draw_networkx(G, with_labels=True, node_size=300, arrows=True, edge_color=\"blue\")\n",
    "    plt.title(f\"Layered Graph from Seed: {seed_account}\")\n",
    "    plt.show()\n",
    "else:\n",
    "    print(\"No valid edges found in BFS result.\")"
   ]
  },
  {
   "cell_type": "markdown",
   "metadata": {
    "id": "iBUoEfk_GQ3N"
   },
   "source": [
    "# Smurfing Detection"
   ]
  },
  {
   "cell_type": "code",
   "execution_count": null,
   "metadata": {
    "colab": {
     "base_uri": "https://localhost:8080/",
     "height": 1000
    },
    "id": "fI15uWBoFgdg",
    "outputId": "cd1ec24a-33ba-41ae-c44a-b188f0650637"
   },
   "outputs": [],
   "source": [
    "# Calculate in-degree and out-degree\n",
    "degrees = graph.degrees.withColumnRenamed(\"id\", \"account\")\n",
    "in_degrees = graph.inDegrees.withColumnRenamed(\"id\", \"account\").withColumnRenamed(\"inDegree\", \"in_degree\")  # Rename 'id' to 'account'\n",
    "out_degrees = graph.outDegrees.withColumnRenamed(\"id\", \"account\").withColumnRenamed(\"outDegree\", \"out_degree\") # Rename 'id' to 'account'\n",
    "\n",
    "# Merge degrees\n",
    "degree_analysis = degrees.join(in_degrees, \"account\", \"outer\").join(out_degrees, \"account\", \"outer\")\n",
    "degree_analysis = degree_analysis.fillna(0)\n",
    "smurfing_origins = degree_analysis.filter(F.col(\"out_degree\") > 10)\n",
    "smurfing_endpoints = degree_analysis.filter(F.col(\"in_degree\") > 10)\n",
    "\n",
    "smurfing_origins.show()\n",
    "smurfing_endpoints.show()\n",
    "degree_pd = degree_analysis.toPandas()\n",
    "plt.figure(figsize=(12, 8))\n",
    "plt.scatter(degree_pd[\"in_degree\"], degree_pd[\"out_degree\"], alpha=0.7)\n",
    "plt.xlabel(\"In-Degree\")\n",
    "plt.ylabel(\"Out-Degree\")\n",
    "plt.title(\"Smurfing Accounts: Degree Analysis\")\n",
    "plt.grid()\n",
    "plt.show()\n"
   ]
  },
  {
   "cell_type": "code",
   "execution_count": null,
   "metadata": {
    "colab": {
     "base_uri": "https://localhost:8080/"
    },
    "id": "q8Ra8APfcluQ",
    "outputId": "7da449e6-976d-44c7-cf24-a8973c95c267"
   },
   "outputs": [],
   "source": [
    "# Sort and display top 10 accounts by in-degree and  out-degree\n",
    "top_in_degree = degree_analysis.orderBy(F.col(\"in_degree\").desc()).limit(10)\n",
    "top_out_degree = degree_analysis.orderBy(F.col(\"out_degree\").desc()).limit(10)\n",
    "print(\"Top 10 High Total Degree Accounts\")\n",
    "\n",
    "degree_analysis = degree_analysis.withColumn(\"total_degree\", F.col(\"in_degree\") + F.col(\"out_degree\"))\n",
    "top_total_degree = degree_analysis.orderBy(F.col(\"total_degree\").desc()).limit(10)\n",
    "top_total_degree.show(truncate=False)\n",
    "\n",
    "smurfing_origins = degree_analysis.orderBy(F.col(\"out_degree\").desc()).limit(10)\n",
    "print(\"Top 10 Smurfing Origins:(High Out-Degree Accounts)\")\n",
    "smurfing_origins.show(truncate=False)\n",
    "\n",
    "smurfing_endpoints = degree_analysis.orderBy(F.col(\"in_degree\").desc()).limit(10)\n",
    "print(\"Top 10 Smurfing Endpoints: (High In-degree Accounts)\")\n",
    "smurfing_endpoints.show(truncate=False)"
   ]
  },
  {
   "cell_type": "code",
   "execution_count": null,
   "metadata": {
    "colab": {
     "base_uri": "https://localhost:8080/",
     "height": 764
    },
    "id": "pwqNgoXtcv0z",
    "outputId": "bbfed754-7d65-4e57-a13a-b78f7ae9d32f"
   },
   "outputs": [],
   "source": [
    "# Convert top accounts to Pandas for visualization\n",
    "top_degree_pd = degree_analysis.orderBy(F.col(\"total_degree\").desc()).limit(10).toPandas()\n",
    "\n",
    "plt.figure(figsize=(12, 8))\n",
    "plt.bar(top_degree_pd[\"account\"].astype(str), top_degree_pd[\"total_degree\"], color=\"skyblue\")\n",
    "plt.xlabel(\"Account ID\")\n",
    "plt.ylabel(\"Total Degree\")\n",
    "plt.title(\"Top 10 Accounts by Total Degree\")\n",
    "plt.xticks(rotation=45)\n",
    "plt.show()"
   ]
  },
  {
   "cell_type": "markdown",
   "metadata": {
    "id": "qEWiMgDUReAA"
   },
   "source": [
    "## PageRank"
   ]
  },
  {
   "cell_type": "code",
   "execution_count": null,
   "metadata": {
    "colab": {
     "base_uri": "https://localhost:8080/"
    },
    "id": "S5tu4n_WFtco",
    "outputId": "263e8b7a-28b8-4ae6-da85-009f5a7478f3"
   },
   "outputs": [],
   "source": [
    "# Run PageRank\n",
    "pagerank = graph.pageRank(resetProbability=0.15, maxIter=15)\n",
    "pagerank.vertices.orderBy(F.desc(\"pagerank\")).show(10)\n",
    "pagerank_pd = pagerank.vertices.toPandas()"
   ]
  },
  {
   "cell_type": "code",
   "execution_count": null,
   "metadata": {
    "colab": {
     "base_uri": "https://localhost:8080/",
     "height": 610
    },
    "id": "GO7e4f-rGO80",
    "outputId": "6823fd30-ff90-48b3-f3bd-d44aa2ad8069"
   },
   "outputs": [],
   "source": [
    "# Ensure top 10 records are sorted by PageRank score\n",
    "top_10 = pagerank_pd.sort_values(by=\"pagerank\", ascending=False).head(10)\n",
    "\n",
    "plt.figure(figsize=(10, 6))\n",
    "plt.bar(top_10[\"id\"].astype(str), top_10[\"pagerank\"])\n",
    "plt.xlabel(\"Account\")\n",
    "plt.ylabel(\"PageRank Score\")\n",
    "plt.title(\"Top 10 Suspicious Accounts by PageRank\")\n",
    "plt.xticks(rotation=45)\n",
    "plt.show()"
   ]
  },
  {
   "cell_type": "markdown",
   "metadata": {
    "id": "OaxyRd2AHHvN"
   },
   "source": [
    "## Community Detection"
   ]
  },
  {
   "cell_type": "code",
   "execution_count": null,
   "metadata": {
    "colab": {
     "base_uri": "https://localhost:8080/",
     "height": 1000
    },
    "id": "-X7rnzw5Gvgb",
    "outputId": "e7e9f381-ce11-43d5-f750-6f37a16483bb"
   },
   "outputs": [],
   "source": [
    "# Label propagation for community detection\n",
    "communities = graph.labelPropagation(maxIter=5)\n",
    "communities.show()\n",
    "\n",
    "community_pd = communities.toPandas()\n",
    "plt.figure(figsize=(10, 6))\n",
    "plt.hist(community_pd[\"label\"], bins=20, alpha=0.7)\n",
    "plt.xlabel(\"Community Label\")\n",
    "plt.ylabel(\"Number of Accounts\")\n",
    "plt.title(\"Community Detection\")\n",
    "plt.grid()\n",
    "plt.show()"
   ]
  },
  {
   "cell_type": "markdown",
   "metadata": {
    "id": "ohqg2t4pSI1o"
   },
   "source": [
    "### Added code"
   ]
  },
  {
   "cell_type": "code",
   "execution_count": null,
   "metadata": {
    "id": "Dz35PblhqfNd"
   },
   "outputs": [],
   "source": [
    "from pyspark.sql.functions import sum, avg, countDistinct, col, variance, max, min,count"
   ]
  },
  {
   "cell_type": "code",
   "execution_count": null,
   "metadata": {
    "id": "OPD3jq_59D4n"
   },
   "outputs": [],
   "source": [
    "community_sizes = community_pd.groupby(\"label\").size().reset_index(name=\"size\")\n",
    "top_communities = community_sizes.sort_values(by=\"size\", ascending=False).head(5)\n",
    "\n",
    "# Create `top_anomalies` as a list of top community labels\n",
    "top_anomalies = top_communities[\"label\"].tolist()"
   ]
  },
  {
   "cell_type": "code",
   "execution_count": null,
   "metadata": {
    "colab": {
     "base_uri": "https://localhost:8080/",
     "height": 675
    },
    "id": "nnaYFN7j2AmC",
    "outputId": "d55df9b3-5c93-4663-927e-6818012e55e4"
   },
   "outputs": [],
   "source": [
    "import matplotlib.pyplot as plt\n",
    "import networkx as nx\n",
    "import pandas as pd\n",
    "\n",
    "community_membership = communities.toPandas()\n",
    "top_communities = top_anomalies\n",
    "top_accounts = community_membership[community_membership['label'].isin(top_communities)]\n",
    "\n",
    "# Graph object using NetworkX\n",
    "G = nx.Graph()\n",
    "\n",
    "# Add nodes and edges to the graph\n",
    "for _, row in top_accounts.iterrows():\n",
    "    G.add_node(row['id'], label=row['label'])\n",
    "edges_pd = edges.toPandas()\n",
    "\n",
    "for _, row in edges_pd.iterrows():\n",
    "    if row['src'] in top_accounts['id'].values and row['dst'] in top_accounts['id'].values:\n",
    "        G.add_edge(row['src'], row['dst'])\n",
    "\n",
    "try:\n",
    "    import seaborn as sns\n",
    "    community_colors = {label: color for label, color in zip(top_communities, sns.color_palette(\"husl\", len(top_communities)))}\n",
    "except ImportError:\n",
    "    print(\"Seaborn not found. Please install it using: !pip install seaborn\")\n",
    "    community_colors = {label: plt.cm.get_cmap(\"viridis\")(i / len(top_communities)) for i, label in enumerate(top_communities)}\n",
    "\n",
    "\n",
    "# Set up the layout for the plot (positioning the nodes)\n",
    "pos = nx.spring_layout(G, seed=42)\n",
    "\n",
    "plt.figure(figsize=(12, 8))\n",
    "for community in top_communities:\n",
    "    nodes_in_community = [node for node, data in G.nodes(data=True) if data['label'] == community]\n",
    "    nx.draw_networkx_nodes(G, pos, nodelist=nodes_in_community, node_size=50, node_color=[community_colors[community]] * len(nodes_in_community))\n",
    "\n",
    "nx.draw_networkx_edges(G, pos, alpha=0.5)\n",
    "plt.title(\"Cluster Plot for Top 5 Communities\")\n",
    "plt.axis(\"off\")\n",
    "plt.show()"
   ]
  },
  {
   "cell_type": "code",
   "execution_count": null,
   "metadata": {
    "colab": {
     "base_uri": "https://localhost:8080/"
    },
    "id": "chqnjDRLIZ4R",
    "outputId": "bcd90fcd-8469-482e-8586-196b8659b38f"
   },
   "outputs": [],
   "source": [
    "community_sizes = community_pd['label'].value_counts()\n",
    "print(community_sizes[:21])"
   ]
  },
  {
   "cell_type": "code",
   "execution_count": null,
   "metadata": {
    "id": "36L9sqc8yQyI"
   },
   "outputs": [],
   "source": []
  }
 ],
 "metadata": {
  "accelerator": "GPU",
  "colab": {
   "gpuType": "T4",
   "provenance": []
  },
  "kernelspec": {
   "display_name": "Python 3 (ipykernel)",
   "language": "python",
   "name": "python3"
  },
  "language_info": {
   "codemirror_mode": {
    "name": "ipython",
    "version": 3
   },
   "file_extension": ".py",
   "mimetype": "text/x-python",
   "name": "python",
   "nbconvert_exporter": "python",
   "pygments_lexer": "ipython3",
   "version": "3.13.1"
  }
 },
 "nbformat": 4,
 "nbformat_minor": 4
}
